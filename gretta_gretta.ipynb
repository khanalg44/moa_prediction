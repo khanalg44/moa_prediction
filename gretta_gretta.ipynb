{
 "cells": [
  {
   "cell_type": "markdown",
   "metadata": {},
   "source": [
    "Kaggle link: https://www.kaggle.com/duygus/gretta-gretta?scriptVersionId=34868497"
   ]
  },
  {
   "cell_type": "markdown",
   "metadata": {},
   "source": [
    "Environment setup"
   ]
  },
  {
   "cell_type": "code",
   "execution_count": 1,
   "metadata": {},
   "outputs": [],
   "source": [
    "import numpy as np # linear algebra\n",
    "import pandas as pd # data processing, CSV file I/O (e.g. pd.read_csv)\n",
    "from bq_helper import BigQueryHelper\n",
    "from google.cloud import bigquery\n",
    "# Set use_legacy_sql to True to use legacy SQL syntax.\n",
    "job_config = bigquery.QueryJobConfig()\n",
    "job_config.use_legacy_sql = True"
   ]
  },
  {
   "cell_type": "markdown",
   "metadata": {},
   "source": [
    "Start with getting the big data with BigQueryHelper"
   ]
  },
  {
   "cell_type": "code",
   "execution_count": 2,
   "metadata": {},
   "outputs": [
    {
     "name": "stdout",
     "output_type": "stream",
     "text": [
      "Using Kaggle's public dataset BigQuery integration.\n"
     ]
    },
    {
     "data": {
      "text/plain": [
       "['gsod1929',\n",
       " 'gsod1930',\n",
       " 'gsod1931',\n",
       " 'gsod1932',\n",
       " 'gsod1933',\n",
       " 'gsod1934',\n",
       " 'gsod1935',\n",
       " 'gsod1936',\n",
       " 'gsod1937',\n",
       " 'gsod1938',\n",
       " 'gsod1939',\n",
       " 'gsod1940',\n",
       " 'gsod1941',\n",
       " 'gsod1942',\n",
       " 'gsod1943',\n",
       " 'gsod1944',\n",
       " 'gsod1945',\n",
       " 'gsod1946',\n",
       " 'gsod1947',\n",
       " 'gsod1948',\n",
       " 'gsod1949',\n",
       " 'gsod1950',\n",
       " 'gsod1951',\n",
       " 'gsod1952',\n",
       " 'gsod1953',\n",
       " 'gsod1954',\n",
       " 'gsod1955',\n",
       " 'gsod1956',\n",
       " 'gsod1957',\n",
       " 'gsod1958',\n",
       " 'gsod1959',\n",
       " 'gsod1960',\n",
       " 'gsod1961',\n",
       " 'gsod1962',\n",
       " 'gsod1963',\n",
       " 'gsod1964',\n",
       " 'gsod1965',\n",
       " 'gsod1966',\n",
       " 'gsod1967',\n",
       " 'gsod1968',\n",
       " 'gsod1969',\n",
       " 'gsod1970',\n",
       " 'gsod1971',\n",
       " 'gsod1972',\n",
       " 'gsod1973',\n",
       " 'gsod1974',\n",
       " 'gsod1975',\n",
       " 'gsod1976',\n",
       " 'gsod1977',\n",
       " 'gsod1978',\n",
       " 'gsod1979',\n",
       " 'gsod1980',\n",
       " 'gsod1981',\n",
       " 'gsod1982',\n",
       " 'gsod1983',\n",
       " 'gsod1984',\n",
       " 'gsod1985',\n",
       " 'gsod1986',\n",
       " 'gsod1987',\n",
       " 'gsod1988',\n",
       " 'gsod1989',\n",
       " 'gsod1990',\n",
       " 'gsod1991',\n",
       " 'gsod1992',\n",
       " 'gsod1993',\n",
       " 'gsod1994',\n",
       " 'gsod1995',\n",
       " 'gsod1996',\n",
       " 'gsod1997',\n",
       " 'gsod1998',\n",
       " 'gsod1999',\n",
       " 'gsod2000',\n",
       " 'gsod2001',\n",
       " 'gsod2002',\n",
       " 'gsod2003',\n",
       " 'gsod2004',\n",
       " 'gsod2005',\n",
       " 'gsod2006',\n",
       " 'gsod2007',\n",
       " 'gsod2008',\n",
       " 'gsod2009',\n",
       " 'gsod2010',\n",
       " 'gsod2011',\n",
       " 'gsod2012',\n",
       " 'gsod2013',\n",
       " 'gsod2014',\n",
       " 'gsod2015',\n",
       " 'gsod2016',\n",
       " 'gsod2017',\n",
       " 'gsod2018',\n",
       " 'gsod2019',\n",
       " 'gsod2020',\n",
       " 'stations']"
      ]
     },
     "execution_count": 2,
     "metadata": {},
     "output_type": "execute_result"
    }
   ],
   "source": [
    "noaa_dataset = BigQueryHelper(\n",
    "        active_project= \"bigquery-public-data\", \n",
    "        dataset_name = \"noaa_gsod\")\n",
    "noaa_dataset.list_tables()"
   ]
  },
  {
   "cell_type": "code",
   "execution_count": 3,
   "metadata": {},
   "outputs": [
    {
     "data": {
      "text/html": [
       "<div>\n",
       "<style scoped>\n",
       "    .dataframe tbody tr th:only-of-type {\n",
       "        vertical-align: middle;\n",
       "    }\n",
       "\n",
       "    .dataframe tbody tr th {\n",
       "        vertical-align: top;\n",
       "    }\n",
       "\n",
       "    .dataframe thead th {\n",
       "        text-align: right;\n",
       "    }\n",
       "</style>\n",
       "<table border=\"1\" class=\"dataframe\">\n",
       "  <thead>\n",
       "    <tr style=\"text-align: right;\">\n",
       "      <th></th>\n",
       "      <th>usaf</th>\n",
       "      <th>wban</th>\n",
       "      <th>name</th>\n",
       "      <th>country</th>\n",
       "      <th>state</th>\n",
       "      <th>call</th>\n",
       "      <th>lat</th>\n",
       "      <th>lon</th>\n",
       "      <th>elev</th>\n",
       "      <th>begin</th>\n",
       "      <th>end</th>\n",
       "    </tr>\n",
       "  </thead>\n",
       "  <tbody>\n",
       "    <tr>\n",
       "      <th>0</th>\n",
       "      <td>007018</td>\n",
       "      <td>99999</td>\n",
       "      <td>WXPOD 7018</td>\n",
       "      <td>None</td>\n",
       "      <td>None</td>\n",
       "      <td>None</td>\n",
       "      <td>0.000</td>\n",
       "      <td>0.000</td>\n",
       "      <td>+7018.0</td>\n",
       "      <td>20110309</td>\n",
       "      <td>20130730</td>\n",
       "    </tr>\n",
       "    <tr>\n",
       "      <th>1</th>\n",
       "      <td>007026</td>\n",
       "      <td>99999</td>\n",
       "      <td>WXPOD 7026</td>\n",
       "      <td>AF</td>\n",
       "      <td>None</td>\n",
       "      <td>None</td>\n",
       "      <td>0.000</td>\n",
       "      <td>0.000</td>\n",
       "      <td>+7026.0</td>\n",
       "      <td>20120713</td>\n",
       "      <td>20170822</td>\n",
       "    </tr>\n",
       "    <tr>\n",
       "      <th>2</th>\n",
       "      <td>007070</td>\n",
       "      <td>99999</td>\n",
       "      <td>WXPOD 7070</td>\n",
       "      <td>AF</td>\n",
       "      <td>None</td>\n",
       "      <td>None</td>\n",
       "      <td>0.000</td>\n",
       "      <td>0.000</td>\n",
       "      <td>+7070.0</td>\n",
       "      <td>20140923</td>\n",
       "      <td>20150926</td>\n",
       "    </tr>\n",
       "    <tr>\n",
       "      <th>3</th>\n",
       "      <td>008268</td>\n",
       "      <td>99999</td>\n",
       "      <td>WXPOD8278</td>\n",
       "      <td>AF</td>\n",
       "      <td>None</td>\n",
       "      <td>None</td>\n",
       "      <td>32.950</td>\n",
       "      <td>65.567</td>\n",
       "      <td>+1156.7</td>\n",
       "      <td>20100519</td>\n",
       "      <td>20120323</td>\n",
       "    </tr>\n",
       "    <tr>\n",
       "      <th>4</th>\n",
       "      <td>008307</td>\n",
       "      <td>99999</td>\n",
       "      <td>WXPOD 8318</td>\n",
       "      <td>AF</td>\n",
       "      <td>None</td>\n",
       "      <td>None</td>\n",
       "      <td>0.000</td>\n",
       "      <td>0.000</td>\n",
       "      <td>+8318.0</td>\n",
       "      <td>20100421</td>\n",
       "      <td>20100421</td>\n",
       "    </tr>\n",
       "    <tr>\n",
       "      <th>5</th>\n",
       "      <td>010016</td>\n",
       "      <td>99999</td>\n",
       "      <td>RORVIK/RYUM</td>\n",
       "      <td>NO</td>\n",
       "      <td>None</td>\n",
       "      <td>None</td>\n",
       "      <td>64.850</td>\n",
       "      <td>11.233</td>\n",
       "      <td>+0014.0</td>\n",
       "      <td>19870116</td>\n",
       "      <td>19910806</td>\n",
       "    </tr>\n",
       "    <tr>\n",
       "      <th>6</th>\n",
       "      <td>010017</td>\n",
       "      <td>99999</td>\n",
       "      <td>FRIGG</td>\n",
       "      <td>NO</td>\n",
       "      <td>None</td>\n",
       "      <td>ENFR</td>\n",
       "      <td>59.980</td>\n",
       "      <td>2.250</td>\n",
       "      <td>+0048.0</td>\n",
       "      <td>19880320</td>\n",
       "      <td>20050228</td>\n",
       "    </tr>\n",
       "    <tr>\n",
       "      <th>7</th>\n",
       "      <td>010071</td>\n",
       "      <td>99999</td>\n",
       "      <td>LONGYEARBYEN</td>\n",
       "      <td>SV</td>\n",
       "      <td>None</td>\n",
       "      <td>None</td>\n",
       "      <td>78.217</td>\n",
       "      <td>15.583</td>\n",
       "      <td>+0037.0</td>\n",
       "      <td>20050210</td>\n",
       "      <td>20050210</td>\n",
       "    </tr>\n",
       "    <tr>\n",
       "      <th>8</th>\n",
       "      <td>010190</td>\n",
       "      <td>99999</td>\n",
       "      <td>SVARTTANGEN</td>\n",
       "      <td>NO</td>\n",
       "      <td>None</td>\n",
       "      <td>None</td>\n",
       "      <td>77.517</td>\n",
       "      <td>20.817</td>\n",
       "      <td>+0020.0</td>\n",
       "      <td>20100825</td>\n",
       "      <td>20140523</td>\n",
       "    </tr>\n",
       "    <tr>\n",
       "      <th>9</th>\n",
       "      <td>010303</td>\n",
       "      <td>99999</td>\n",
       "      <td>TROMSO/SKATTURA</td>\n",
       "      <td>NO</td>\n",
       "      <td>None</td>\n",
       "      <td>None</td>\n",
       "      <td>69.700</td>\n",
       "      <td>19.017</td>\n",
       "      <td>+0014.0</td>\n",
       "      <td>20140522</td>\n",
       "      <td>20150108</td>\n",
       "    </tr>\n",
       "  </tbody>\n",
       "</table>\n",
       "</div>"
      ],
      "text/plain": [
       "     usaf   wban                           name country state  call     lat  \\\n",
       "0  007018  99999  WXPOD 7018                       None  None  None   0.000   \n",
       "1  007026  99999  WXPOD 7026                         AF  None  None   0.000   \n",
       "2  007070  99999  WXPOD 7070                         AF  None  None   0.000   \n",
       "3  008268  99999  WXPOD8278                          AF  None  None  32.950   \n",
       "4  008307  99999  WXPOD 8318                         AF  None  None   0.000   \n",
       "5  010016  99999                    RORVIK/RYUM      NO  None  None  64.850   \n",
       "6  010017  99999                          FRIGG      NO  None  ENFR  59.980   \n",
       "7  010071  99999                   LONGYEARBYEN      SV  None  None  78.217   \n",
       "8  010190  99999                    SVARTTANGEN      NO  None  None  77.517   \n",
       "9  010303  99999                TROMSO/SKATTURA      NO  None  None  69.700   \n",
       "\n",
       "      lon     elev     begin       end  \n",
       "0   0.000  +7018.0  20110309  20130730  \n",
       "1   0.000  +7026.0  20120713  20170822  \n",
       "2   0.000  +7070.0  20140923  20150926  \n",
       "3  65.567  +1156.7  20100519  20120323  \n",
       "4   0.000  +8318.0  20100421  20100421  \n",
       "5  11.233  +0014.0  19870116  19910806  \n",
       "6   2.250  +0048.0  19880320  20050228  \n",
       "7  15.583  +0037.0  20050210  20050210  \n",
       "8  20.817  +0020.0  20100825  20140523  \n",
       "9  19.017  +0014.0  20140522  20150108  "
      ]
     },
     "execution_count": 3,
     "metadata": {},
     "output_type": "execute_result"
    }
   ],
   "source": [
    "# Let's see what's inside\n",
    "noaa_dataset.head('stations', num_rows=10)"
   ]
  },
  {
   "cell_type": "markdown",
   "metadata": {},
   "source": [
    "Let's get the data from NJ, using SQL."
   ]
  },
  {
   "cell_type": "code",
   "execution_count": 4,
   "metadata": {},
   "outputs": [
    {
     "data": {
      "text/html": [
       "<div>\n",
       "<style scoped>\n",
       "    .dataframe tbody tr th:only-of-type {\n",
       "        vertical-align: middle;\n",
       "    }\n",
       "\n",
       "    .dataframe tbody tr th {\n",
       "        vertical-align: top;\n",
       "    }\n",
       "\n",
       "    .dataframe thead th {\n",
       "        text-align: right;\n",
       "    }\n",
       "</style>\n",
       "<table border=\"1\" class=\"dataframe\">\n",
       "  <thead>\n",
       "    <tr style=\"text-align: right;\">\n",
       "      <th></th>\n",
       "      <th>usaf</th>\n",
       "      <th>wban</th>\n",
       "      <th>name</th>\n",
       "      <th>country</th>\n",
       "      <th>state</th>\n",
       "      <th>call</th>\n",
       "      <th>lat</th>\n",
       "      <th>lon</th>\n",
       "      <th>elev</th>\n",
       "      <th>begin</th>\n",
       "      <th>end</th>\n",
       "    </tr>\n",
       "  </thead>\n",
       "  <tbody>\n",
       "    <tr>\n",
       "      <th>26</th>\n",
       "      <td>999999</td>\n",
       "      <td>14734</td>\n",
       "      <td>NEWARK INTERNATIONAL ARPT</td>\n",
       "      <td>US</td>\n",
       "      <td>NJ</td>\n",
       "      <td>KEWR</td>\n",
       "      <td>40.683</td>\n",
       "      <td>-74.169</td>\n",
       "      <td>+0009.1</td>\n",
       "      <td>19480101</td>\n",
       "      <td>19721231</td>\n",
       "    </tr>\n",
       "    <tr>\n",
       "      <th>56</th>\n",
       "      <td>725020</td>\n",
       "      <td>14734</td>\n",
       "      <td>NEWARK LIBERTY INTERNATIONAL</td>\n",
       "      <td>US</td>\n",
       "      <td>NJ</td>\n",
       "      <td>KEWR</td>\n",
       "      <td>40.683</td>\n",
       "      <td>-74.169</td>\n",
       "      <td>+0002.1</td>\n",
       "      <td>19730101</td>\n",
       "      <td>20200516</td>\n",
       "    </tr>\n",
       "  </tbody>\n",
       "</table>\n",
       "</div>"
      ],
      "text/plain": [
       "      usaf   wban                          name country state  call     lat  \\\n",
       "26  999999  14734     NEWARK INTERNATIONAL ARPT      US    NJ  KEWR  40.683   \n",
       "56  725020  14734  NEWARK LIBERTY INTERNATIONAL      US    NJ  KEWR  40.683   \n",
       "\n",
       "       lon     elev     begin       end  \n",
       "26 -74.169  +0009.1  19480101  19721231  \n",
       "56 -74.169  +0002.1  19730101  20200516  "
      ]
     },
     "execution_count": 4,
     "metadata": {},
     "output_type": "execute_result"
    }
   ],
   "source": [
    "query = \"\"\"\n",
    "    SELECT *\n",
    "    FROM `bigquery-public-data.noaa_gsod.stations`\n",
    "    WHERE state = \"NJ\"\n",
    "\"\"\"\n",
    "NJ_stations = noaa_dataset.query_to_pandas(query)\n",
    "NJ_stations[NJ_stations['name'].str.contains('NEWARK')]"
   ]
  },
  {
   "cell_type": "markdown",
   "metadata": {},
   "source": [
    "Get all the weather data coming from Newark Intl Airport Station, with the stn number '725020'"
   ]
  },
  {
   "cell_type": "code",
   "execution_count": 5,
   "metadata": {},
   "outputs": [
    {
     "data": {
      "text/plain": [
       "11.236002331599593"
      ]
     },
     "execution_count": 5,
     "metadata": {},
     "output_type": "execute_result"
    }
   ],
   "source": [
    "# Get all the weather data coming from Newark Intl Airport Station\n",
    "query = \"\"\"SELECT year,mo,da,temp,dewp,visib,wdsp,prcp,fog,rain_drizzle,snow_ice_pellets,hail,thunder,tornado_funnel_cloud\n",
    "    FROM `bigquery-public-data.noaa_gsod.gsod*`\n",
    "    WHERE stn = '725020'\n",
    "    \"\"\"\n",
    "# Estimate the size\n",
    "noaa_dataset.estimate_query_size(query)"
   ]
  },
  {
   "cell_type": "markdown",
   "metadata": {},
   "source": [
    "Sort and write the data into a csv "
   ]
  },
  {
   "cell_type": "code",
   "execution_count": 6,
   "metadata": {},
   "outputs": [],
   "source": [
    "# take Newark data \n",
    "newark_data = noaa_dataset.query_to_pandas(query)\n",
    "# newark_data.to_csv('noaa_newark_data.csv')\n",
    "newark_data_sorted = newark_data.sort_values(by=['year','mo','da']).reset_index().drop('index',axis=1)\n",
    "newark_data_sorted.to_csv('newark_data_sorted.csv', index=False)"
   ]
  },
  {
   "cell_type": "markdown",
   "metadata": {},
   "source": [
    "Get more data from other states: this time NJ, NY, LA, and WI\n",
    "\n",
    "The stations we picked:\n",
    "*     NJ: 725020 Newark Intl Airport Station,\n",
    "*     NY: 725030 NYC/LA GUARDIA,\n",
    "*     CA: 722950 LOS ANGELES,\n",
    "*     WI: 727410 PARK FALLS\n",
    "\n",
    "This time sort the data with SQL"
   ]
  },
  {
   "cell_type": "code",
   "execution_count": 7,
   "metadata": {},
   "outputs": [
    {
     "data": {
      "text/plain": [
       "27.21099486760795"
      ]
     },
     "execution_count": 7,
     "metadata": {},
     "output_type": "execute_result"
    }
   ],
   "source": [
    "query = \"\"\"\n",
    "    SELECT *\n",
    "    FROM `bigquery-public-data.noaa_gsod.gsod*`\n",
    "    WHERE stn IN ('725020','725030','722950','727410')\n",
    "    ORDER BY year, mo, da\n",
    "    \"\"\"\n",
    "noaa_dataset.estimate_query_size(query)"
   ]
  },
  {
   "cell_type": "code",
   "execution_count": 8,
   "metadata": {},
   "outputs": [],
   "source": [
    "all_states = noaa_dataset.query_to_pandas(query)"
   ]
  },
  {
   "cell_type": "code",
   "execution_count": 9,
   "metadata": {},
   "outputs": [],
   "source": [
    "all_states.to_csv('all_states_data_sorted.csv', index=False)"
   ]
  }
 ],
 "metadata": {
  "kernelspec": {
   "display_name": "Python 3",
   "language": "python",
   "name": "python3"
  },
  "language_info": {
   "codemirror_mode": {
    "name": "ipython",
    "version": 3
   },
   "file_extension": ".py",
   "mimetype": "text/x-python",
   "name": "python",
   "nbconvert_exporter": "python",
   "pygments_lexer": "ipython3",
   "version": "3.7.6"
  }
 },
 "nbformat": 4,
 "nbformat_minor": 4
}
